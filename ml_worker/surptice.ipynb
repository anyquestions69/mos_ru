{
 "cells": [
  {
   "cell_type": "code",
   "execution_count": 4,
   "id": "88ccc91f",
   "metadata": {},
   "outputs": [
    {
     "name": "stdout",
     "output_type": "stream",
     "text": [
      "Requirement already satisfied: pandas in /Library/Frameworks/Python.framework/Versions/3.10/lib/python3.10/site-packages (1.5.3)\n",
      "Requirement already satisfied: python-dateutil>=2.8.1 in /Library/Frameworks/Python.framework/Versions/3.10/lib/python3.10/site-packages (from pandas) (2.8.2)\n",
      "Requirement already satisfied: numpy>=1.21.0 in /Library/Frameworks/Python.framework/Versions/3.10/lib/python3.10/site-packages (from pandas) (1.24.2)\n",
      "Requirement already satisfied: pytz>=2020.1 in /Library/Frameworks/Python.framework/Versions/3.10/lib/python3.10/site-packages (from pandas) (2023.2)\n",
      "Requirement already satisfied: six>=1.5 in /Library/Frameworks/Python.framework/Versions/3.10/lib/python3.10/site-packages (from python-dateutil>=2.8.1->pandas) (1.16.0)\n",
      "\n",
      "\u001b[1m[\u001b[0m\u001b[34;49mnotice\u001b[0m\u001b[1;39;49m]\u001b[0m\u001b[39;49m A new release of pip is available: \u001b[0m\u001b[31;49m23.0.1\u001b[0m\u001b[39;49m -> \u001b[0m\u001b[32;49m23.1.2\u001b[0m\n",
      "\u001b[1m[\u001b[0m\u001b[34;49mnotice\u001b[0m\u001b[1;39;49m]\u001b[0m\u001b[39;49m To update, run: \u001b[0m\u001b[32;49mpip install --upgrade pip\u001b[0m\n",
      "Requirement already satisfied: numpy in /Library/Frameworks/Python.framework/Versions/3.10/lib/python3.10/site-packages (1.24.2)\n",
      "\n",
      "\u001b[1m[\u001b[0m\u001b[34;49mnotice\u001b[0m\u001b[1;39;49m]\u001b[0m\u001b[39;49m A new release of pip is available: \u001b[0m\u001b[31;49m23.0.1\u001b[0m\u001b[39;49m -> \u001b[0m\u001b[32;49m23.1.2\u001b[0m\n",
      "\u001b[1m[\u001b[0m\u001b[34;49mnotice\u001b[0m\u001b[1;39;49m]\u001b[0m\u001b[39;49m To update, run: \u001b[0m\u001b[32;49mpip install --upgrade pip\u001b[0m\n",
      "Requirement already satisfied: scipy in /Library/Frameworks/Python.framework/Versions/3.10/lib/python3.10/site-packages (1.10.1)\n",
      "Requirement already satisfied: numpy<1.27.0,>=1.19.5 in /Library/Frameworks/Python.framework/Versions/3.10/lib/python3.10/site-packages (from scipy) (1.24.2)\n",
      "\n",
      "\u001b[1m[\u001b[0m\u001b[34;49mnotice\u001b[0m\u001b[1;39;49m]\u001b[0m\u001b[39;49m A new release of pip is available: \u001b[0m\u001b[31;49m23.0.1\u001b[0m\u001b[39;49m -> \u001b[0m\u001b[32;49m23.1.2\u001b[0m\n",
      "\u001b[1m[\u001b[0m\u001b[34;49mnotice\u001b[0m\u001b[1;39;49m]\u001b[0m\u001b[39;49m To update, run: \u001b[0m\u001b[32;49mpip install --upgrade pip\u001b[0m\n",
      "Requirement already satisfied: scikit-learn in /Library/Frameworks/Python.framework/Versions/3.10/lib/python3.10/site-packages (1.2.2)\n",
      "Requirement already satisfied: numpy>=1.17.3 in /Library/Frameworks/Python.framework/Versions/3.10/lib/python3.10/site-packages (from scikit-learn) (1.24.2)\n",
      "Requirement already satisfied: scipy>=1.3.2 in /Library/Frameworks/Python.framework/Versions/3.10/lib/python3.10/site-packages (from scikit-learn) (1.10.1)\n",
      "Requirement already satisfied: threadpoolctl>=2.0.0 in /Library/Frameworks/Python.framework/Versions/3.10/lib/python3.10/site-packages (from scikit-learn) (3.1.0)\n",
      "Requirement already satisfied: joblib>=1.1.1 in /Library/Frameworks/Python.framework/Versions/3.10/lib/python3.10/site-packages (from scikit-learn) (1.2.0)\n",
      "\n",
      "\u001b[1m[\u001b[0m\u001b[34;49mnotice\u001b[0m\u001b[1;39;49m]\u001b[0m\u001b[39;49m A new release of pip is available: \u001b[0m\u001b[31;49m23.0.1\u001b[0m\u001b[39;49m -> \u001b[0m\u001b[32;49m23.1.2\u001b[0m\n",
      "\u001b[1m[\u001b[0m\u001b[34;49mnotice\u001b[0m\u001b[1;39;49m]\u001b[0m\u001b[39;49m To update, run: \u001b[0m\u001b[32;49mpip install --upgrade pip\u001b[0m\n"
     ]
    },
    {
     "ename": "ModuleNotFoundError",
     "evalue": "No module named 'pandas'",
     "output_type": "error",
     "traceback": [
      "\u001b[0;31m---------------------------------------------------------------------------\u001b[0m",
      "\u001b[0;31mModuleNotFoundError\u001b[0m                       Traceback (most recent call last)",
      "Cell \u001b[0;32mIn[4], line 5\u001b[0m\n\u001b[1;32m      3\u001b[0m get_ipython()\u001b[39m.\u001b[39msystem(\u001b[39m'\u001b[39m\u001b[39mpip install scipy\u001b[39m\u001b[39m'\u001b[39m)\n\u001b[1;32m      4\u001b[0m get_ipython()\u001b[39m.\u001b[39msystem(\u001b[39m'\u001b[39m\u001b[39mpip install scikit-learn\u001b[39m\u001b[39m'\u001b[39m)\n\u001b[0;32m----> 5\u001b[0m \u001b[39mimport\u001b[39;00m \u001b[39mpandas\u001b[39;00m \u001b[39mas\u001b[39;00m \u001b[39mpd\u001b[39;00m\n\u001b[1;32m      6\u001b[0m \u001b[39mimport\u001b[39;00m \u001b[39mnumpy\u001b[39;00m \u001b[39mas\u001b[39;00m \u001b[39mnp\u001b[39;00m\n\u001b[1;32m      7\u001b[0m \u001b[39mfrom\u001b[39;00m \u001b[39mscipy\u001b[39;00m \u001b[39mimport\u001b[39;00m sparse\n",
      "\u001b[0;31mModuleNotFoundError\u001b[0m: No module named 'pandas'"
     ]
    }
   ],
   "source": [
    "import pandas as pd\n",
    "import numpy as np\n",
    "from scipy import sparse\n",
    "from sklearn.preprocessing import normalize"
   ]
  },
  {
   "cell_type": "code",
   "execution_count": null,
   "id": "c843f108",
   "metadata": {},
   "outputs": [],
   "source": [
    "groups = pd.read_csv('C:\\LTC\\groups.csv')\n",
    "users = pd.read_csv('C:\\LTC\\sers.csv')\n",
    "attends = pd.read_csv('C:\\LTC\\end.csv')"
   ]
  },
  {
   "cell_type": "code",
   "execution_count": null,
   "id": "624a93cb",
   "metadata": {},
   "outputs": [],
   "source": [
    "prepared_attends = attends.drop(columns=['уникальный номер занятия', 'уникальный номер группы', 'направление 2', 'онлайн/офлайн', 'дата занятия', 'время начала занятия', 'время окончания занятия'])"
   ]
  },
  {
   "cell_type": "code",
   "execution_count": null,
   "id": "858eee56",
   "metadata": {},
   "outputs": [],
   "source": [
    "prepared_attends = prepared_attends.rename(columns={'уникальный номер участника':'user_id', 'направление 3':'lesson'})"
   ]
  },
  {
   "cell_type": "code",
   "execution_count": null,
   "id": "8983b4d6",
   "metadata": {},
   "outputs": [],
   "source": [
    "prepared_attends.index = prepared_attends.user_id"
   ]
  },
  {
   "cell_type": "code",
   "execution_count": null,
   "id": "e140f8a2",
   "metadata": {},
   "outputs": [],
   "source": [
    "at = attends.drop(columns=['уникальный номер занятия', 'уникальный номер группы', 'направление 2', 'дата занятия', 'время начала занятия', 'время окончания занятия'])"
   ]
  },
  {
   "cell_type": "code",
   "execution_count": null,
   "id": "727a4518",
   "metadata": {},
   "outputs": [],
   "source": [
    "at = at.rename(columns={'уникальный номер участника':'user_id', 'направление 3':'lesson'})"
   ]
  },
  {
   "cell_type": "code",
   "execution_count": null,
   "id": "0b77976a",
   "metadata": {},
   "outputs": [],
   "source": [
    "at = at.groupby(['user_id', 'lesson'], as_index=False).agg({'онлайн/офлайн':'count'})"
   ]
  },
  {
   "cell_type": "code",
   "execution_count": null,
   "id": "ac751116",
   "metadata": {},
   "outputs": [],
   "source": [
    "at = at.rename(columns={'онлайн/офлайн':'quantity'})"
   ]
  },
  {
   "cell_type": "code",
   "execution_count": null,
   "id": "b8466656",
   "metadata": {},
   "outputs": [],
   "source": [
    "nums = [i + 1 for i in range(len(at.lesson.unique()))]"
   ]
  },
  {
   "cell_type": "code",
   "execution_count": null,
   "id": "4892ac84",
   "metadata": {},
   "outputs": [],
   "source": [
    "lessons_dict = dict(zip(at.lesson.unique(), nums))"
   ]
  },
  {
   "cell_type": "code",
   "execution_count": null,
   "id": "7702cd91",
   "metadata": {},
   "outputs": [],
   "source": [
    "prep_at = at.replace({'lesson':lessons_dict})"
   ]
  },
  {
   "cell_type": "code",
   "execution_count": null,
   "id": "37d14abd",
   "metadata": {},
   "outputs": [],
   "source": [
    "title_dict = dict(zip(nums, at.lesson.unique()))"
   ]
  },
  {
   "cell_type": "code",
   "execution_count": null,
   "id": "50bf4b70",
   "metadata": {},
   "outputs": [],
   "source": [
    "rows, r_pos = np.unique(prep_at.values[:, 0], return_inverse=True)"
   ]
  },
  {
   "cell_type": "code",
   "execution_count": null,
   "id": "c7d96237",
   "metadata": {},
   "outputs": [],
   "source": [
    "columns, c_pos = np.unique(prep_at.values[:, 1], return_inverse=True)"
   ]
  },
  {
   "cell_type": "code",
   "execution_count": null,
   "id": "a31a1379",
   "metadata": {},
   "outputs": [],
   "source": [
    "int_sparse = sparse.csr_matrix((prep_at.values[:, 2], (r_pos, c_pos)))"
   ]
  },
  {
   "cell_type": "code",
   "execution_count": null,
   "id": "ebface55",
   "metadata": {},
   "outputs": [
    {
     "data": {
      "text/plain": [
       "<50906x453 sparse matrix of type '<class 'numpy.int64'>'\n",
       "\twith 286056 stored elements in Compressed Sparse Row format>"
      ]
     },
     "execution_count": 17,
     "metadata": {},
     "output_type": "execute_result"
    }
   ],
   "source": [
    "int_sparse"
   ]
  },
  {
   "cell_type": "code",
   "execution_count": null,
   "id": "997da390",
   "metadata": {},
   "outputs": [],
   "source": [
    "pui = normalize(int_sparse, norm='l2', axis=1)\n",
    "sim = pui.T * pui"
   ]
  },
  {
   "cell_type": "code",
   "execution_count": null,
   "id": "8222f1f4",
   "metadata": {},
   "outputs": [],
   "source": [
    "int_sparse_T = int_sparse.transpose(copy=True)"
   ]
  },
  {
   "cell_type": "code",
   "execution_count": null,
   "id": "b7308a3b",
   "metadata": {},
   "outputs": [],
   "source": [
    "Piu = normalize(int_sparse_T, norm='l1', axis=1)\n",
    "fit = pui * Piu * pui"
   ]
  },
  {
   "cell_type": "code",
   "execution_count": null,
   "id": "537bf4f4",
   "metadata": {},
   "outputs": [
    {
     "data": {
      "text/plain": [
       "<50906x453 sparse matrix of type '<class 'numpy.float64'>'\n",
       "\twith 21163322 stored elements in Compressed Sparse Row format>"
      ]
     },
     "execution_count": 21,
     "metadata": {},
     "output_type": "execute_result"
    }
   ],
   "source": [
    "fit"
   ]
  },
  {
   "cell_type": "code",
   "execution_count": null,
   "id": "17490f46",
   "metadata": {},
   "outputs": [],
   "source": [
    "def get_rec(us_id, us_list, fit_mx, sparse_mx, lessons_dct):#Функция для получения рекомендаций\n",
    "    ind = 0\n",
    "    for i in range(len(us_list)):\n",
    "        if us_list[i] == us_id:\n",
    "            ind = i\n",
    "            break\n",
    "    initial_set = set([lessons_dct[i + 1] for i in np.nonzero(sparse_mx[ind])[1].tolist()])\n",
    "    pred_set = set([lessons_dct[i + 1] for i in fit_mx[ind].toarray().argsort()[0][-30:].tolist()])\n",
    "    return list(pred_set - initial_set)[:10]"
   ]
  },
  {
   "cell_type": "code",
   "execution_count": null,
   "id": "dc16944b",
   "metadata": {},
   "outputs": [
    {
     "data": {
      "text/plain": [
       "['ОНЛАЙН Осваиваем мобильные устройства',\n",
       " 'ОНЛАЙН Иные интеллектуальные игры',\n",
       " 'ОНЛАЙН Психологические тренинги',\n",
       " 'ОНЛАЙН Здорово жить',\n",
       " 'ОНЛАЙН Мастер-класс по уходу за кожей в зрелом возрасте',\n",
       " 'ОНЛАЙН Краеведение и онлайн-экскурсии',\n",
       " 'ОНЛАЙН Дыхательная гимнастика',\n",
       " 'Краеведение и пешие прогулки',\n",
       " 'Скандинавская ходьба',\n",
       " 'ОНЛАЙН Различные техники рисования']"
      ]
     },
     "execution_count": 82,
     "metadata": {},
     "output_type": "execute_result"
    }
   ],
   "source": [
    "get_rec(10145659, rows, fit, int_sparse, title_dict)"
   ]
  },
  {
   "cell_type": "code",
   "execution_count": null,
   "id": "d78438d5",
   "metadata": {},
   "outputs": [],
   "source": [
    "np.save('C:\\PY\\mx_sparse', int_sparse, allow_pickle=True)"
   ]
  },
  {
   "cell_type": "code",
   "execution_count": null,
   "id": "5bd44510",
   "metadata": {},
   "outputs": [],
   "source": [
    "arr = np.load('C:\\PY\\lo_l.npy', allow_pickle=True)"
   ]
  },
  {
   "cell_type": "code",
   "execution_count": null,
   "id": "3694e416",
   "metadata": {},
   "outputs": [
    {
     "data": {
      "text/plain": [
       "array(<50906x453 sparse matrix of type '<class 'numpy.float64'>'\n",
       "\twith 21163322 stored elements in Compressed Sparse Row format>,\n",
       "      dtype=object)"
      ]
     },
     "execution_count": 116,
     "metadata": {},
     "output_type": "execute_result"
    }
   ],
   "source": [
    "arr"
   ]
  },
  {
   "cell_type": "code",
   "execution_count": null,
   "id": "652a4641",
   "metadata": {},
   "outputs": [],
   "source": [
    "def load_mx(filepath):\n",
    "    return np.load(filepath, allow_pickle=True)"
   ]
  },
  {
   "cell_type": "code",
   "execution_count": null,
   "id": "e972bfa9",
   "metadata": {},
   "outputs": [
    {
     "data": {
      "text/html": [
       "<div>\n",
       "<style scoped>\n",
       "    .dataframe tbody tr th:only-of-type {\n",
       "        vertical-align: middle;\n",
       "    }\n",
       "\n",
       "    .dataframe tbody tr th {\n",
       "        vertical-align: top;\n",
       "    }\n",
       "\n",
       "    .dataframe thead th {\n",
       "        text-align: right;\n",
       "    }\n",
       "</style>\n",
       "<table border=\"1\" class=\"dataframe\">\n",
       "  <thead>\n",
       "    <tr style=\"text-align: right;\">\n",
       "      <th></th>\n",
       "      <th>user_id</th>\n",
       "      <th>lesson</th>\n",
       "      <th>quantity</th>\n",
       "    </tr>\n",
       "  </thead>\n",
       "  <tbody>\n",
       "    <tr>\n",
       "      <th>0</th>\n",
       "      <td>101346549</td>\n",
       "      <td>Авторские курсы/маршруты</td>\n",
       "      <td>1</td>\n",
       "    </tr>\n",
       "    <tr>\n",
       "      <th>1</th>\n",
       "      <td>101346549</td>\n",
       "      <td>Акварельная живопись</td>\n",
       "      <td>1</td>\n",
       "    </tr>\n",
       "    <tr>\n",
       "      <th>2</th>\n",
       "      <td>101346549</td>\n",
       "      <td>Здоровая спина</td>\n",
       "      <td>1</td>\n",
       "    </tr>\n",
       "    <tr>\n",
       "      <th>3</th>\n",
       "      <td>101346549</td>\n",
       "      <td>Литература</td>\n",
       "      <td>1</td>\n",
       "    </tr>\n",
       "    <tr>\n",
       "      <th>4</th>\n",
       "      <td>101346549</td>\n",
       "      <td>ОНЛАЙН История искусства</td>\n",
       "      <td>1</td>\n",
       "    </tr>\n",
       "    <tr>\n",
       "      <th>...</th>\n",
       "      <td>...</td>\n",
       "      <td>...</td>\n",
       "      <td>...</td>\n",
       "    </tr>\n",
       "    <tr>\n",
       "      <th>286051</th>\n",
       "      <td>101449498</td>\n",
       "      <td>Вязание на спицах</td>\n",
       "      <td>3</td>\n",
       "    </tr>\n",
       "    <tr>\n",
       "      <th>286052</th>\n",
       "      <td>101449549</td>\n",
       "      <td>ОНЛАЙН Адаптивная и тонизирующая гимнастика</td>\n",
       "      <td>2</td>\n",
       "    </tr>\n",
       "    <tr>\n",
       "      <th>286053</th>\n",
       "      <td>101449549</td>\n",
       "      <td>ОНЛАЙН Гимнастика мозга</td>\n",
       "      <td>1</td>\n",
       "    </tr>\n",
       "    <tr>\n",
       "      <th>286054</th>\n",
       "      <td>101449549</td>\n",
       "      <td>ОНЛАЙН Дизайн интерьера</td>\n",
       "      <td>1</td>\n",
       "    </tr>\n",
       "    <tr>\n",
       "      <th>286055</th>\n",
       "      <td>101449549</td>\n",
       "      <td>ОНЛАЙН Здоровая спина</td>\n",
       "      <td>1</td>\n",
       "    </tr>\n",
       "  </tbody>\n",
       "</table>\n",
       "<p>286056 rows × 3 columns</p>\n",
       "</div>"
      ],
      "text/plain": [
       "          user_id                                       lesson  quantity\n",
       "0       101346549                     Авторские курсы/маршруты         1\n",
       "1       101346549                         Акварельная живопись         1\n",
       "2       101346549                               Здоровая спина         1\n",
       "3       101346549                                   Литература         1\n",
       "4       101346549                     ОНЛАЙН История искусства         1\n",
       "...           ...                                          ...       ...\n",
       "286051  101449498                            Вязание на спицах         3\n",
       "286052  101449549  ОНЛАЙН Адаптивная и тонизирующая гимнастика         2\n",
       "286053  101449549                      ОНЛАЙН Гимнастика мозга         1\n",
       "286054  101449549                      ОНЛАЙН Дизайн интерьера         1\n",
       "286055  101449549                        ОНЛАЙН Здоровая спина         1\n",
       "\n",
       "[286056 rows x 3 columns]"
      ]
     },
     "execution_count": 34,
     "metadata": {},
     "output_type": "execute_result"
    }
   ],
   "source": [
    "at"
   ]
  },
  {
   "cell_type": "code",
   "execution_count": null,
   "id": "a221b57c",
   "metadata": {},
   "outputs": [
    {
     "data": {
      "text/html": [
       "<div>\n",
       "<style scoped>\n",
       "    .dataframe tbody tr th:only-of-type {\n",
       "        vertical-align: middle;\n",
       "    }\n",
       "\n",
       "    .dataframe tbody tr th {\n",
       "        vertical-align: top;\n",
       "    }\n",
       "\n",
       "    .dataframe thead th {\n",
       "        text-align: right;\n",
       "    }\n",
       "</style>\n",
       "<table border=\"1\" class=\"dataframe\">\n",
       "  <thead>\n",
       "    <tr style=\"text-align: right;\">\n",
       "      <th></th>\n",
       "      <th>user_id</th>\n",
       "      <th>lesson</th>\n",
       "      <th>quantity</th>\n",
       "    </tr>\n",
       "  </thead>\n",
       "  <tbody>\n",
       "    <tr>\n",
       "      <th>0</th>\n",
       "      <td>101346549</td>\n",
       "      <td>1</td>\n",
       "      <td>1</td>\n",
       "    </tr>\n",
       "    <tr>\n",
       "      <th>1</th>\n",
       "      <td>101346549</td>\n",
       "      <td>2</td>\n",
       "      <td>1</td>\n",
       "    </tr>\n",
       "    <tr>\n",
       "      <th>2</th>\n",
       "      <td>101346549</td>\n",
       "      <td>3</td>\n",
       "      <td>1</td>\n",
       "    </tr>\n",
       "    <tr>\n",
       "      <th>3</th>\n",
       "      <td>101346549</td>\n",
       "      <td>4</td>\n",
       "      <td>1</td>\n",
       "    </tr>\n",
       "    <tr>\n",
       "      <th>4</th>\n",
       "      <td>101346549</td>\n",
       "      <td>5</td>\n",
       "      <td>1</td>\n",
       "    </tr>\n",
       "    <tr>\n",
       "      <th>...</th>\n",
       "      <td>...</td>\n",
       "      <td>...</td>\n",
       "      <td>...</td>\n",
       "    </tr>\n",
       "    <tr>\n",
       "      <th>286051</th>\n",
       "      <td>101449498</td>\n",
       "      <td>219</td>\n",
       "      <td>3</td>\n",
       "    </tr>\n",
       "    <tr>\n",
       "      <th>286052</th>\n",
       "      <td>101449549</td>\n",
       "      <td>158</td>\n",
       "      <td>2</td>\n",
       "    </tr>\n",
       "    <tr>\n",
       "      <th>286053</th>\n",
       "      <td>101449549</td>\n",
       "      <td>104</td>\n",
       "      <td>1</td>\n",
       "    </tr>\n",
       "    <tr>\n",
       "      <th>286054</th>\n",
       "      <td>101449549</td>\n",
       "      <td>112</td>\n",
       "      <td>1</td>\n",
       "    </tr>\n",
       "    <tr>\n",
       "      <th>286055</th>\n",
       "      <td>101449549</td>\n",
       "      <td>53</td>\n",
       "      <td>1</td>\n",
       "    </tr>\n",
       "  </tbody>\n",
       "</table>\n",
       "<p>286056 rows × 3 columns</p>\n",
       "</div>"
      ],
      "text/plain": [
       "          user_id  lesson  quantity\n",
       "0       101346549       1         1\n",
       "1       101346549       2         1\n",
       "2       101346549       3         1\n",
       "3       101346549       4         1\n",
       "4       101346549       5         1\n",
       "...           ...     ...       ...\n",
       "286051  101449498     219         3\n",
       "286052  101449549     158         2\n",
       "286053  101449549     104         1\n",
       "286054  101449549     112         1\n",
       "286055  101449549      53         1\n",
       "\n",
       "[286056 rows x 3 columns]"
      ]
     },
     "execution_count": 35,
     "metadata": {},
     "output_type": "execute_result"
    }
   ],
   "source": [
    "prep_at"
   ]
  },
  {
   "cell_type": "code",
   "execution_count": null,
   "id": "d4f8b392",
   "metadata": {},
   "outputs": [],
   "source": [
    "at.to_csv('C:\\PY\\d.csv')"
   ]
  },
  {
   "cell_type": "code",
   "execution_count": null,
   "id": "f1dc51db",
   "metadata": {},
   "outputs": [
    {
     "data": {
      "text/html": [
       "<div>\n",
       "<style scoped>\n",
       "    .dataframe tbody tr th:only-of-type {\n",
       "        vertical-align: middle;\n",
       "    }\n",
       "\n",
       "    .dataframe tbody tr th {\n",
       "        vertical-align: top;\n",
       "    }\n",
       "\n",
       "    .dataframe thead th {\n",
       "        text-align: right;\n",
       "    }\n",
       "</style>\n",
       "<table border=\"1\" class=\"dataframe\">\n",
       "  <thead>\n",
       "    <tr style=\"text-align: right;\">\n",
       "      <th></th>\n",
       "      <th>user_id</th>\n",
       "      <th>lesson</th>\n",
       "      <th>quantity</th>\n",
       "    </tr>\n",
       "  </thead>\n",
       "  <tbody>\n",
       "    <tr>\n",
       "      <th>0</th>\n",
       "      <td>101346549</td>\n",
       "      <td>1</td>\n",
       "      <td>1</td>\n",
       "    </tr>\n",
       "    <tr>\n",
       "      <th>1</th>\n",
       "      <td>101346549</td>\n",
       "      <td>2</td>\n",
       "      <td>1</td>\n",
       "    </tr>\n",
       "    <tr>\n",
       "      <th>2</th>\n",
       "      <td>101346549</td>\n",
       "      <td>3</td>\n",
       "      <td>1</td>\n",
       "    </tr>\n",
       "    <tr>\n",
       "      <th>3</th>\n",
       "      <td>101346549</td>\n",
       "      <td>4</td>\n",
       "      <td>1</td>\n",
       "    </tr>\n",
       "    <tr>\n",
       "      <th>4</th>\n",
       "      <td>101346549</td>\n",
       "      <td>5</td>\n",
       "      <td>1</td>\n",
       "    </tr>\n",
       "    <tr>\n",
       "      <th>...</th>\n",
       "      <td>...</td>\n",
       "      <td>...</td>\n",
       "      <td>...</td>\n",
       "    </tr>\n",
       "    <tr>\n",
       "      <th>286051</th>\n",
       "      <td>101449498</td>\n",
       "      <td>219</td>\n",
       "      <td>3</td>\n",
       "    </tr>\n",
       "    <tr>\n",
       "      <th>286052</th>\n",
       "      <td>101449549</td>\n",
       "      <td>158</td>\n",
       "      <td>2</td>\n",
       "    </tr>\n",
       "    <tr>\n",
       "      <th>286053</th>\n",
       "      <td>101449549</td>\n",
       "      <td>104</td>\n",
       "      <td>1</td>\n",
       "    </tr>\n",
       "    <tr>\n",
       "      <th>286054</th>\n",
       "      <td>101449549</td>\n",
       "      <td>112</td>\n",
       "      <td>1</td>\n",
       "    </tr>\n",
       "    <tr>\n",
       "      <th>286055</th>\n",
       "      <td>101449549</td>\n",
       "      <td>53</td>\n",
       "      <td>1</td>\n",
       "    </tr>\n",
       "  </tbody>\n",
       "</table>\n",
       "<p>286056 rows × 3 columns</p>\n",
       "</div>"
      ],
      "text/plain": [
       "          user_id  lesson  quantity\n",
       "0       101346549       1         1\n",
       "1       101346549       2         1\n",
       "2       101346549       3         1\n",
       "3       101346549       4         1\n",
       "4       101346549       5         1\n",
       "...           ...     ...       ...\n",
       "286051  101449498     219         3\n",
       "286052  101449549     158         2\n",
       "286053  101449549     104         1\n",
       "286054  101449549     112         1\n",
       "286055  101449549      53         1\n",
       "\n",
       "[286056 rows x 3 columns]"
      ]
     },
     "execution_count": 46,
     "metadata": {},
     "output_type": "execute_result"
    }
   ],
   "source": [
    "prep_at"
   ]
  },
  {
   "cell_type": "code",
   "execution_count": null,
   "id": "ae78efb4",
   "metadata": {},
   "outputs": [],
   "source": [
    "fit = np.load('C:\\PY\\mx_fit.npy', allow_pickle=True)"
   ]
  },
  {
   "cell_type": "code",
   "execution_count": null,
   "id": "3a814b45",
   "metadata": {},
   "outputs": [],
   "source": [
    "int_sparse = np.load('C:\\PY\\mx_sparse.npy', allow_pickle=True)"
   ]
  },
  {
   "cell_type": "code",
   "execution_count": null,
   "id": "fa6bb27b",
   "metadata": {},
   "outputs": [
    {
     "data": {
      "text/plain": [
       "array(<50906x453 sparse matrix of type '<class 'numpy.float64'>'\n",
       "\twith 21163322 stored elements in Compressed Sparse Row format>,\n",
       "      dtype=object)"
      ]
     },
     "execution_count": 51,
     "metadata": {},
     "output_type": "execute_result"
    }
   ],
   "source": [
    "fit"
   ]
  },
  {
   "cell_type": "code",
   "execution_count": null,
   "id": "6fe4d673",
   "metadata": {},
   "outputs": [
    {
     "data": {
      "text/plain": [
       "array(<50906x453 sparse matrix of type '<class 'numpy.int64'>'\n",
       "\twith 286056 stored elements in Compressed Sparse Row format>,\n",
       "      dtype=object)"
      ]
     },
     "execution_count": 52,
     "metadata": {},
     "output_type": "execute_result"
    }
   ],
   "source": [
    "int_sparse"
   ]
  },
  {
   "cell_type": "code",
   "execution_count": null,
   "id": "12c0c3e5",
   "metadata": {},
   "outputs": [
    {
     "data": {
      "text/plain": [
       "<function ndarray.tolist>"
      ]
     },
     "execution_count": 65,
     "metadata": {},
     "output_type": "execute_result"
    }
   ],
   "source": [
    "fit.tolist"
   ]
  },
  {
   "cell_type": "code",
   "execution_count": null,
   "id": "10a2bd05",
   "metadata": {},
   "outputs": [
    {
     "data": {
      "text/plain": [
       "array(<50906x453 sparse matrix of type '<class 'numpy.float64'>'\n",
       "\twith 21163322 stored elements in Compressed Sparse Row format>,\n",
       "      dtype=object)"
      ]
     },
     "execution_count": 66,
     "metadata": {},
     "output_type": "execute_result"
    }
   ],
   "source": [
    "fit"
   ]
  },
  {
   "cell_type": "code",
   "execution_count": null,
   "id": "6971a3e5",
   "metadata": {},
   "outputs": [],
   "source": [
    "fit1 = fit.tolist"
   ]
  },
  {
   "cell_type": "code",
   "execution_count": null,
   "id": "b7468a22",
   "metadata": {},
   "outputs": [
    {
     "ename": "ValueError",
     "evalue": "Expected 1D or 2D array, got 0D array instead",
     "output_type": "error",
     "traceback": [
      "\u001b[1;31m---------------------------------------------------------------------------\u001b[0m",
      "\u001b[1;31mValueError\u001b[0m                                Traceback (most recent call last)",
      "Input \u001b[1;32mIn [71]\u001b[0m, in \u001b[0;36m<cell line: 1>\u001b[1;34m()\u001b[0m\n\u001b[1;32m----> 1\u001b[0m c \u001b[38;5;241m=\u001b[39m \u001b[43mnp\u001b[49m\u001b[38;5;241;43m.\u001b[39;49m\u001b[43msavetxt\u001b[49m\u001b[43m(\u001b[49m\u001b[38;5;124;43m'\u001b[39;49m\u001b[38;5;124;43mC:\u001b[39;49m\u001b[38;5;124;43m\\\u001b[39;49m\u001b[38;5;124;43mPY\u001b[39;49m\u001b[38;5;124;43m\\\u001b[39;49m\u001b[38;5;124;43miit.txt\u001b[39;49m\u001b[38;5;124;43m'\u001b[39;49m\u001b[43m,\u001b[49m\u001b[43m \u001b[49m\u001b[43mfit\u001b[49m\u001b[43m,\u001b[49m\u001b[43m \u001b[49m\u001b[43mdelimiter\u001b[49m\u001b[38;5;241;43m=\u001b[39;49m\u001b[38;5;124;43m'\u001b[39;49m\u001b[38;5;124;43m, \u001b[39;49m\u001b[38;5;124;43m'\u001b[39;49m\u001b[43m)\u001b[49m\n",
      "File \u001b[1;32m<__array_function__ internals>:180\u001b[0m, in \u001b[0;36msavetxt\u001b[1;34m(*args, **kwargs)\u001b[0m\n",
      "File \u001b[1;32m~\\anaconda3\\lib\\site-packages\\numpy\\lib\\npyio.py:1397\u001b[0m, in \u001b[0;36msavetxt\u001b[1;34m(fname, X, fmt, delimiter, newline, header, footer, comments, encoding)\u001b[0m\n\u001b[0;32m   1395\u001b[0m \u001b[38;5;66;03m# Handle 1-dimensional arrays\u001b[39;00m\n\u001b[0;32m   1396\u001b[0m \u001b[38;5;28;01mif\u001b[39;00m X\u001b[38;5;241m.\u001b[39mndim \u001b[38;5;241m==\u001b[39m \u001b[38;5;241m0\u001b[39m \u001b[38;5;129;01mor\u001b[39;00m X\u001b[38;5;241m.\u001b[39mndim \u001b[38;5;241m>\u001b[39m \u001b[38;5;241m2\u001b[39m:\n\u001b[1;32m-> 1397\u001b[0m     \u001b[38;5;28;01mraise\u001b[39;00m \u001b[38;5;167;01mValueError\u001b[39;00m(\n\u001b[0;32m   1398\u001b[0m         \u001b[38;5;124m\"\u001b[39m\u001b[38;5;124mExpected 1D or 2D array, got \u001b[39m\u001b[38;5;132;01m%d\u001b[39;00m\u001b[38;5;124mD array instead\u001b[39m\u001b[38;5;124m\"\u001b[39m \u001b[38;5;241m%\u001b[39m X\u001b[38;5;241m.\u001b[39mndim)\n\u001b[0;32m   1399\u001b[0m \u001b[38;5;28;01melif\u001b[39;00m X\u001b[38;5;241m.\u001b[39mndim \u001b[38;5;241m==\u001b[39m \u001b[38;5;241m1\u001b[39m:\n\u001b[0;32m   1400\u001b[0m     \u001b[38;5;66;03m# Common case -- 1d array of numbers\u001b[39;00m\n\u001b[0;32m   1401\u001b[0m     \u001b[38;5;28;01mif\u001b[39;00m X\u001b[38;5;241m.\u001b[39mdtype\u001b[38;5;241m.\u001b[39mnames \u001b[38;5;129;01mis\u001b[39;00m \u001b[38;5;28;01mNone\u001b[39;00m:\n",
      "\u001b[1;31mValueError\u001b[0m: Expected 1D or 2D array, got 0D array instead"
     ]
    }
   ],
   "source": [
    "c = np.savetxt('C:\\PY\\iit.txt', fit, delimiter=', ')"
   ]
  },
  {
   "cell_type": "code",
   "execution_count": null,
   "id": "71d298da",
   "metadata": {},
   "outputs": [],
   "source": [
    "fit1 = np.array(fit)"
   ]
  },
  {
   "cell_type": "code",
   "execution_count": null,
   "id": "32a7fcc7",
   "metadata": {},
   "outputs": [
    {
     "data": {
      "text/html": [
       "<div>\n",
       "<style scoped>\n",
       "    .dataframe tbody tr th:only-of-type {\n",
       "        vertical-align: middle;\n",
       "    }\n",
       "\n",
       "    .dataframe tbody tr th {\n",
       "        vertical-align: top;\n",
       "    }\n",
       "\n",
       "    .dataframe thead th {\n",
       "        text-align: right;\n",
       "    }\n",
       "</style>\n",
       "<table border=\"1\" class=\"dataframe\">\n",
       "  <thead>\n",
       "    <tr style=\"text-align: right;\">\n",
       "      <th></th>\n",
       "      <th>user_id</th>\n",
       "      <th>lesson</th>\n",
       "      <th>quantity</th>\n",
       "    </tr>\n",
       "  </thead>\n",
       "  <tbody>\n",
       "    <tr>\n",
       "      <th>0</th>\n",
       "      <td>101346549</td>\n",
       "      <td>1</td>\n",
       "      <td>1</td>\n",
       "    </tr>\n",
       "    <tr>\n",
       "      <th>1</th>\n",
       "      <td>101346549</td>\n",
       "      <td>2</td>\n",
       "      <td>1</td>\n",
       "    </tr>\n",
       "    <tr>\n",
       "      <th>2</th>\n",
       "      <td>101346549</td>\n",
       "      <td>3</td>\n",
       "      <td>1</td>\n",
       "    </tr>\n",
       "    <tr>\n",
       "      <th>3</th>\n",
       "      <td>101346549</td>\n",
       "      <td>4</td>\n",
       "      <td>1</td>\n",
       "    </tr>\n",
       "    <tr>\n",
       "      <th>4</th>\n",
       "      <td>101346549</td>\n",
       "      <td>5</td>\n",
       "      <td>1</td>\n",
       "    </tr>\n",
       "    <tr>\n",
       "      <th>...</th>\n",
       "      <td>...</td>\n",
       "      <td>...</td>\n",
       "      <td>...</td>\n",
       "    </tr>\n",
       "    <tr>\n",
       "      <th>286051</th>\n",
       "      <td>101449498</td>\n",
       "      <td>219</td>\n",
       "      <td>3</td>\n",
       "    </tr>\n",
       "    <tr>\n",
       "      <th>286052</th>\n",
       "      <td>101449549</td>\n",
       "      <td>158</td>\n",
       "      <td>2</td>\n",
       "    </tr>\n",
       "    <tr>\n",
       "      <th>286053</th>\n",
       "      <td>101449549</td>\n",
       "      <td>104</td>\n",
       "      <td>1</td>\n",
       "    </tr>\n",
       "    <tr>\n",
       "      <th>286054</th>\n",
       "      <td>101449549</td>\n",
       "      <td>112</td>\n",
       "      <td>1</td>\n",
       "    </tr>\n",
       "    <tr>\n",
       "      <th>286055</th>\n",
       "      <td>101449549</td>\n",
       "      <td>53</td>\n",
       "      <td>1</td>\n",
       "    </tr>\n",
       "  </tbody>\n",
       "</table>\n",
       "<p>286056 rows × 3 columns</p>\n",
       "</div>"
      ],
      "text/plain": [
       "          user_id  lesson  quantity\n",
       "0       101346549       1         1\n",
       "1       101346549       2         1\n",
       "2       101346549       3         1\n",
       "3       101346549       4         1\n",
       "4       101346549       5         1\n",
       "...           ...     ...       ...\n",
       "286051  101449498     219         3\n",
       "286052  101449549     158         2\n",
       "286053  101449549     104         1\n",
       "286054  101449549     112         1\n",
       "286055  101449549      53         1\n",
       "\n",
       "[286056 rows x 3 columns]"
      ]
     },
     "execution_count": 83,
     "metadata": {},
     "output_type": "execute_result"
    }
   ],
   "source": [
    "prep_at"
   ]
  },
  {
   "cell_type": "code",
   "execution_count": null,
   "id": "a4c19b48",
   "metadata": {},
   "outputs": [
    {
     "data": {
      "text/html": [
       "<div>\n",
       "<style scoped>\n",
       "    .dataframe tbody tr th:only-of-type {\n",
       "        vertical-align: middle;\n",
       "    }\n",
       "\n",
       "    .dataframe tbody tr th {\n",
       "        vertical-align: top;\n",
       "    }\n",
       "\n",
       "    .dataframe thead th {\n",
       "        text-align: right;\n",
       "    }\n",
       "</style>\n",
       "<table border=\"1\" class=\"dataframe\">\n",
       "  <thead>\n",
       "    <tr style=\"text-align: right;\">\n",
       "      <th></th>\n",
       "      <th>Unnamed: 0</th>\n",
       "      <th>user_id</th>\n",
       "      <th>lesson</th>\n",
       "      <th>quantity</th>\n",
       "    </tr>\n",
       "  </thead>\n",
       "  <tbody>\n",
       "    <tr>\n",
       "      <th>0</th>\n",
       "      <td>0</td>\n",
       "      <td>101346549</td>\n",
       "      <td>Авторские курсы/маршруты</td>\n",
       "      <td>1</td>\n",
       "    </tr>\n",
       "    <tr>\n",
       "      <th>1</th>\n",
       "      <td>1</td>\n",
       "      <td>101346549</td>\n",
       "      <td>Акварельная живопись</td>\n",
       "      <td>1</td>\n",
       "    </tr>\n",
       "    <tr>\n",
       "      <th>2</th>\n",
       "      <td>2</td>\n",
       "      <td>101346549</td>\n",
       "      <td>Здоровая спина</td>\n",
       "      <td>1</td>\n",
       "    </tr>\n",
       "    <tr>\n",
       "      <th>3</th>\n",
       "      <td>3</td>\n",
       "      <td>101346549</td>\n",
       "      <td>Литература</td>\n",
       "      <td>1</td>\n",
       "    </tr>\n",
       "    <tr>\n",
       "      <th>4</th>\n",
       "      <td>4</td>\n",
       "      <td>101346549</td>\n",
       "      <td>ОНЛАЙН История искусства</td>\n",
       "      <td>1</td>\n",
       "    </tr>\n",
       "    <tr>\n",
       "      <th>...</th>\n",
       "      <td>...</td>\n",
       "      <td>...</td>\n",
       "      <td>...</td>\n",
       "      <td>...</td>\n",
       "    </tr>\n",
       "    <tr>\n",
       "      <th>286051</th>\n",
       "      <td>286051</td>\n",
       "      <td>101449498</td>\n",
       "      <td>Вязание на спицах</td>\n",
       "      <td>3</td>\n",
       "    </tr>\n",
       "    <tr>\n",
       "      <th>286052</th>\n",
       "      <td>286052</td>\n",
       "      <td>101449549</td>\n",
       "      <td>ОНЛАЙН Адаптивная и тонизирующая гимнастика</td>\n",
       "      <td>2</td>\n",
       "    </tr>\n",
       "    <tr>\n",
       "      <th>286053</th>\n",
       "      <td>286053</td>\n",
       "      <td>101449549</td>\n",
       "      <td>ОНЛАЙН Гимнастика мозга</td>\n",
       "      <td>1</td>\n",
       "    </tr>\n",
       "    <tr>\n",
       "      <th>286054</th>\n",
       "      <td>286054</td>\n",
       "      <td>101449549</td>\n",
       "      <td>ОНЛАЙН Дизайн интерьера</td>\n",
       "      <td>1</td>\n",
       "    </tr>\n",
       "    <tr>\n",
       "      <th>286055</th>\n",
       "      <td>286055</td>\n",
       "      <td>101449549</td>\n",
       "      <td>ОНЛАЙН Здоровая спина</td>\n",
       "      <td>1</td>\n",
       "    </tr>\n",
       "  </tbody>\n",
       "</table>\n",
       "<p>286056 rows × 4 columns</p>\n",
       "</div>"
      ],
      "text/plain": [
       "        Unnamed: 0    user_id                                       lesson  \\\n",
       "0                0  101346549                     Авторские курсы/маршруты   \n",
       "1                1  101346549                         Акварельная живопись   \n",
       "2                2  101346549                               Здоровая спина   \n",
       "3                3  101346549                                   Литература   \n",
       "4                4  101346549                     ОНЛАЙН История искусства   \n",
       "...            ...        ...                                          ...   \n",
       "286051      286051  101449498                            Вязание на спицах   \n",
       "286052      286052  101449549  ОНЛАЙН Адаптивная и тонизирующая гимнастика   \n",
       "286053      286053  101449549                      ОНЛАЙН Гимнастика мозга   \n",
       "286054      286054  101449549                      ОНЛАЙН Дизайн интерьера   \n",
       "286055      286055  101449549                        ОНЛАЙН Здоровая спина   \n",
       "\n",
       "        quantity  \n",
       "0              1  \n",
       "1              1  \n",
       "2              1  \n",
       "3              1  \n",
       "4              1  \n",
       "...          ...  \n",
       "286051         3  \n",
       "286052         2  \n",
       "286053         1  \n",
       "286054         1  \n",
       "286055         1  \n",
       "\n",
       "[286056 rows x 4 columns]"
      ]
     },
     "execution_count": 88,
     "metadata": {},
     "output_type": "execute_result"
    }
   ],
   "source": [
    "pd.read_csv('C:\\PY\\d.csv')"
   ]
  },
  {
   "cell_type": "code",
   "execution_count": null,
   "id": "2dd400ff",
   "metadata": {},
   "outputs": [],
   "source": []
  }
 ],
 "metadata": {
  "kernelspec": {
   "display_name": "Python 3 (ipykernel)",
   "language": "python",
   "name": "python3"
  },
  "language_info": {
   "codemirror_mode": {
    "name": "ipython",
    "version": 3
   },
   "file_extension": ".py",
   "mimetype": "text/x-python",
   "name": "python",
   "nbconvert_exporter": "python",
   "pygments_lexer": "ipython3",
   "version": "3.11.1"
  }
 },
 "nbformat": 4,
 "nbformat_minor": 5
}
